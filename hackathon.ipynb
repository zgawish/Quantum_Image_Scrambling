{
 "cells": [
  {
   "cell_type": "code",
   "execution_count": 1,
   "metadata": {},
   "outputs": [
    {
     "data": {
      "text/plain": [
       "<AccountProvider for IBMQ(hub='ibm-q', group='open', project='main')>"
      ]
     },
     "execution_count": 1,
     "metadata": {},
     "output_type": "execute_result"
    }
   ],
   "source": [
    "import math\n",
    "import numpy as np\n",
    "from qiskit import *\n",
    "from qiskit.tools.visualization import plot_histogram, plot_state_city\n",
    "from qiskit.providers.aer import QasmSimulator, StatevectorSimulator, UnitarySimulator\n",
    "from qiskit import IBMQ\n",
    "import matplotlib\n",
    "%matplotlib inline\n",
    "\n",
    "IBMQ.load_account()"
   ]
  },
  {
   "cell_type": "code",
   "execution_count": 2,
   "metadata": {},
   "outputs": [],
   "source": [
    "def getStatevectorFromImage(path):\n",
    "    from PIL import Image\n",
    "    image= Image.open(path)\n",
    "    (width, height) = image.size\n",
    "    pixels = image.load()\n",
    "\n",
    "    ssum = 0\n",
    "    for i in range(width):\n",
    "        for j in range(height):\n",
    "            ssum += pixels[i,j]**2\n",
    "\n",
    "    m = math.floor(math.log(height, 2))\n",
    "    n = math.floor(math.log(width, 2))\n",
    "    stateVector = np.zeros(2**(m+n))\n",
    "    for i in range(width):\n",
    "        for j in range(height):\n",
    "            stateVector[i*height + j] = pixels[i,j]/math.sqrt(ssum)\n",
    "            \n",
    "    return stateVector, m, n"
   ]
  },
  {
   "cell_type": "code",
   "execution_count": 3,
   "metadata": {},
   "outputs": [
    {
     "name": "stdout",
     "output_type": "stream",
     "text": [
      "sVector:  1.0000000000000098\n"
     ]
    }
   ],
   "source": [
    "sVector = getStatevectorFromImage(\"mlk.jpg\")[0]\n",
    "print(\"sVector: \",sum(sVector**2))"
   ]
  },
  {
   "cell_type": "code",
   "execution_count": 4,
   "metadata": {},
   "outputs": [],
   "source": [
    "def Translate(increment, quantumRegister, circuit):\n",
    "    from qiskit.aqua.components.qfts import Standard as qft\n",
    "    from qiskit.aqua.components.iqfts import Standard as iqft\n",
    "    \n",
    "    n = len(quantumRegister)\n",
    "    \n",
    "    qft(n).construct_circuit(qubits=quantumRegister,circuit=circuit)\n",
    "    \n",
    "    for j in range(n):\n",
    "        circuit.u1((np.pi*increment)/(2**(n-1-j)), quantumRegister[j])\n",
    "        \n",
    "    iqft(n).construct_circuit(qubits=quantumRegister,circuit=circuit)"
   ]
  },
  {
   "cell_type": "code",
   "execution_count": 5,
   "metadata": {},
   "outputs": [],
   "source": [
    "def exportQuantumImage(counts, shots, height, width):\n",
    "    from PIL import Image\n",
    "\n",
    "    r = math.floor(math.log(width, 2))\n",
    "    img= Image.new(\"L\", (width, height))\n",
    "    pixels = img.load()\n",
    "\n",
    "    maxAmplitude = 256\n",
    "    medAmplitude = maxAmplitude/2\n",
    "    med = shots/(height * width)\n",
    "    for key in counts:\n",
    "        i = int(key[0:r], 2)\n",
    "        j = int(key[r:], 2)\n",
    "        val = round((((counts[key] - med)/med)*medAmplitude) + medAmplitude)\n",
    "        pixels[i,j] = (val)\n",
    "        \n",
    "    return img"
   ]
  },
  {
   "cell_type": "code",
   "execution_count": null,
   "metadata": {},
   "outputs": [],
   "source": [
    "from qiskit.aqua.components.qfts import Standard as qft\n",
    "stateVector, m, n = getStatevectorFromImage('mlk.jpg')\n",
    "\n",
    "state = [complex(x) for x in stateVector]\n",
    "indexes = range(m+n)\n",
    "\n",
    "columnReg = QuantumRegister(n)\n",
    "rowReg = QuantumRegister(m)\n",
    "creg = ClassicalRegister(n+m)\n",
    "\n",
    "circ = QuantumCircuit(rowReg, columnReg, creg)\n",
    "circ.initialize(state, indexes)\n",
    "\n",
    "#qft(m).construct_circuit(qubits=rowReg,circuit=circ)\n",
    "#qft(n).construct_circuit(qubits=columnReg,circuit=circ)\n",
    "\n",
    "#Translate(2**(n-1), rowReg, circ)\n",
    "#Translate(2**(m-1), columnReg, circ)\n",
    "circ.measure(indexes, indexes)\n",
    "\n",
    "provider = IBMQ.get_provider(group='open')\n",
    "backend = provider.get_backend('ibmq_qasm_simulator')\n",
    "\n",
    "shots = 2024\n",
    "result = execute(circ, backend, shots=shots).result()\n",
    "counts = result.get_counts(circ)\n",
    "#plot_histogram(counts)"
   ]
  },
  {
   "cell_type": "code",
   "execution_count": 6,
   "metadata": {},
   "outputs": [
    {
     "ename": "NameError",
     "evalue": "name 'counts' is not defined",
     "output_type": "error",
     "traceback": [
      "\u001b[0;31m---------------------------------------------------------------------------\u001b[0m",
      "\u001b[0;31mNameError\u001b[0m                                 Traceback (most recent call last)",
      "\u001b[0;32m<ipython-input-6-7ebfde322b9f>\u001b[0m in \u001b[0;36m<module>\u001b[0;34m\u001b[0m\n\u001b[0;32m----> 1\u001b[0;31m \u001b[0mexportQuantumImage\u001b[0m\u001b[0;34m(\u001b[0m\u001b[0mcounts\u001b[0m\u001b[0;34m,\u001b[0m\u001b[0mshots\u001b[0m\u001b[0;34m,\u001b[0m\u001b[0;36m2\u001b[0m\u001b[0;34m**\u001b[0m\u001b[0mm\u001b[0m\u001b[0;34m,\u001b[0m\u001b[0;36m2\u001b[0m\u001b[0;34m**\u001b[0m\u001b[0mn\u001b[0m\u001b[0;34m)\u001b[0m\u001b[0;34m\u001b[0m\u001b[0;34m\u001b[0m\u001b[0m\n\u001b[0m",
      "\u001b[0;31mNameError\u001b[0m: name 'counts' is not defined"
     ]
    }
   ],
   "source": [
    "exportQuantumImage(counts,shots,2**m,2**n)"
   ]
  },
  {
   "cell_type": "code",
   "execution_count": null,
   "metadata": {},
   "outputs": [],
   "source": []
  }
 ],
 "metadata": {
  "@webio": {
   "lastCommId": null,
   "lastKernelId": null
  },
  "kernelspec": {
   "display_name": "Python 3",
   "language": "python",
   "name": "python3"
  },
  "language_info": {
   "codemirror_mode": {
    "name": "ipython",
    "version": 3
   },
   "file_extension": ".py",
   "mimetype": "text/x-python",
   "name": "python",
   "nbconvert_exporter": "python",
   "pygments_lexer": "ipython3",
   "version": "3.8.3"
  }
 },
 "nbformat": 4,
 "nbformat_minor": 4
}
