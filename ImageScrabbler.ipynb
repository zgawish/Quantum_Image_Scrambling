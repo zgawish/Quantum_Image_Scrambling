{
 "cells": [
  {
   "cell_type": "code",
   "execution_count": 31,
   "metadata": {},
   "outputs": [
    {
     "name": "stderr",
     "output_type": "stream",
     "text": [
      "ibmqfactory.load_account:WARNING:2020-06-30 22:36:45,608: Credentials are already in use. The existing account in the session will be replaced.\n"
     ]
    }
   ],
   "source": [
    "%matplotlib inline\n",
    "# Importing standard Qiskit libraries and configuring account\n",
    "import math\n",
    "import numpy as np\n",
    "from qiskit import *\n",
    "from qiskit import QuantumCircuit, execute, Aer, IBMQ\n",
    "from qiskit.compiler import transpile, assemble\n",
    "from qiskit.tools.jupyter import *\n",
    "from qiskit.visualization import *\n",
    "# Loading your IBM Q account(s)\n",
    "provider = IBMQ.load_account()"
   ]
  },
  {
   "cell_type": "code",
   "execution_count": 130,
   "metadata": {},
   "outputs": [],
   "source": [
    "def carry2(circuit, qa, qb, qc, start_index):\n",
    "    circuit.ccx(qa[start_index], qb[start_index], qc[start_index + 1])\n",
    "    circuit.cx(qa[start_index], qb[start_index]) \n",
    "    circuit.ccx(qc[start_index], qb[start_index], qc[start_index + 1]) "
   ]
  },
  {
   "cell_type": "code",
   "execution_count": 131,
   "metadata": {},
   "outputs": [],
   "source": [
    "def carrydg2(circuit, qa, qb, qc, start_index):\n",
    "    circuit.ccx(qc[start_index], qb[start_index], qc[start_index + 1]) \n",
    "    circuit.cx(qa[start_index], qb[start_index]) \n",
    "    circuit.ccx(qa[start_index], qb[start_index], qc[start_index + 1])"
   ]
  },
  {
   "cell_type": "code",
   "execution_count": 132,
   "metadata": {},
   "outputs": [],
   "source": [
    "def qrsum2(circuit, qa, qb, qc, start_index):\n",
    "    circuit.cx(qa[start_index], qb[start_index])\n",
    "    circuit.cx(qc[start_index], qb[start_index])"
   ]
  },
  {
   "cell_type": "code",
   "execution_count": 133,
   "metadata": {},
   "outputs": [],
   "source": [
    "def make_adder2(circuit, qa, qb, qc, n):\n",
    "        \n",
    "    # top to bottom\n",
    "    for i in range(0, n, 1):\n",
    "        carry2(circuit, qa, qb, qc, i)\n",
    "        circuit.barrier()\n",
    "    \n",
    "    circuit.cx(qa[n - 1], qb[n - 1])\n",
    "    qrsum2(circuit, qa, qb, qc, n - 1)\n",
    "    circuit.barrier()\n",
    "    \n",
    "    # bottom to top\n",
    "    for i in range(n - 2, -1, -1):\n",
    "        carrydg2(circuit, qa, qb, qc, i)\n",
    "        circuit.barrier()\n",
    "        qrsum2(circuit, qa, qb, qc, i)\n",
    "        circuit.barrier()"
   ]
  },
  {
   "cell_type": "code",
   "execution_count": 134,
   "metadata": {},
   "outputs": [],
   "source": [
    "def make_circ(x, y, size):\n",
    "            \n",
    "    qa = QuantumRegister(size, \"qa\")\n",
    "    qb = QuantumRegister(size, \"qb\")\n",
    "    qc = QuantumRegister(size + 1, \"qc\")\n",
    "    cr = QuantumRegister(size, \"cr\")\n",
    "\n",
    "    circ = QuantumCircuit(qa, qb, qc, cr)\n",
    "        \n",
    "    for i in range(len(y)):\n",
    "        if y[i] == 1:\n",
    "            circ.x(qa[i])\n",
    "            \n",
    "    for i in range(len(x)):\n",
    "        if x[i] == 1:\n",
    "            circ.x(qb[i])\n",
    "    return circ"
   ]
  },
  {
   "cell_type": "code",
   "execution_count": 146,
   "metadata": {},
   "outputs": [],
   "source": [
    "def get_results(new):\n",
    "    total = 0\n",
    "    for i in range(len(new[0]) - 1, -1, -1):\n",
    "        if new[0][i] == '1':\n",
    "            total += 2**(len(new[0]) - 1 - i)\n",
    "    return total"
   ]
  },
  {
   "cell_type": "code",
   "execution_count": 147,
   "metadata": {},
   "outputs": [
    {
     "name": "stdout",
     "output_type": "stream",
     "text": [
      "Result(backend_name='statevector_simulator', backend_version='0.5.2', date=datetime.datetime(2020, 7, 1, 0, 40, 44, 98987), header=Obj(backend_name='statevector_simulator', backend_version='0.5.2'), job_id='35cbd3d3-6f6b-4f43-8acb-91e025232196', metadata={'max_memory_mb': 8192, 'omp_enabled': True, 'parallel_experiments': 1, 'time_taken': 0.00020541300000000002}, qobj_id='dad3a4e6-a9fc-48af-aae7-6a7869c91b0e', results=[ExperimentResult(data=ExperimentResultData(statevector=array([1.+0.j, 0.+0.j, 0.+0.j, 0.+0.j, 0.+0.j, 0.+0.j, 0.+0.j, 0.+0.j,\n",
      "       0.+0.j, 0.+0.j, 0.+0.j, 0.+0.j, 0.+0.j, 0.+0.j, 0.+0.j, 0.+0.j,\n",
      "       0.+0.j, 0.+0.j, 0.+0.j, 0.+0.j, 0.+0.j, 0.+0.j, 0.+0.j, 0.+0.j,\n",
      "       0.+0.j, 0.+0.j, 0.+0.j, 0.+0.j, 0.+0.j, 0.+0.j, 0.+0.j, 0.+0.j])), header=Obj(clbit_labels=[], creg_sizes=[], memory_slots=0, n_qubits=5, name='circuit4159', qreg_sizes=[['qa', 1], ['qb', 1], ['qc', 2], ['cr', 1]], qubit_labels=[['qa', 0], ['qb', 0], ['qc', 0], ['qc', 1], ['cr', 0]]), meas_level=<MeasLevel.CLASSIFIED: 2>, metadata={'parallel_shots': 1, 'parallel_state_update': 8}, seed_simulator=3555639758, shots=1024, status='DONE', success=True, time_taken=8.196700000000001e-05)], status='COMPLETED', success=True, time_taken=0.0009169578552246094)\n",
      "0\n"
     ]
    },
    {
     "ename": "QiskitError",
     "evalue": "'No counts for experiment \"0\"'",
     "output_type": "error",
     "traceback": [
      "\u001b[0;31m---------------------------------------------------------------------------\u001b[0m",
      "\u001b[0;31mQiskitError\u001b[0m                               Traceback (most recent call last)",
      "\u001b[0;32m<ipython-input-147-013786d479ae>\u001b[0m in \u001b[0;36m<module>\u001b[0;34m\u001b[0m\n\u001b[1;32m     74\u001b[0m         \u001b[0mjob\u001b[0m \u001b[0;34m=\u001b[0m  \u001b[0mexecute\u001b[0m\u001b[0;34m(\u001b[0m\u001b[0mcirc\u001b[0m\u001b[0;34m,\u001b[0m \u001b[0mbackend\u001b[0m\u001b[0;34m,\u001b[0m \u001b[0mshots\u001b[0m\u001b[0;34m=\u001b[0m\u001b[0mshots\u001b[0m\u001b[0;34m)\u001b[0m\u001b[0;34m\u001b[0m\u001b[0;34m\u001b[0m\u001b[0m\n\u001b[1;32m     75\u001b[0m         \u001b[0mresult\u001b[0m \u001b[0;34m=\u001b[0m \u001b[0mjob\u001b[0m\u001b[0;34m.\u001b[0m\u001b[0mresult\u001b[0m\u001b[0;34m(\u001b[0m\u001b[0;34m)\u001b[0m\u001b[0;34m\u001b[0m\u001b[0;34m\u001b[0m\u001b[0m\n\u001b[0;32m---> 76\u001b[0;31m         \u001b[0mcounts\u001b[0m \u001b[0;34m=\u001b[0m \u001b[0mresult\u001b[0m\u001b[0;34m.\u001b[0m\u001b[0mget_counts\u001b[0m\u001b[0;34m(\u001b[0m\u001b[0;34m)\u001b[0m\u001b[0;34m\u001b[0m\u001b[0;34m\u001b[0m\u001b[0m\n\u001b[0m\u001b[1;32m     77\u001b[0m \u001b[0;34m\u001b[0m\u001b[0m\n\u001b[1;32m     78\u001b[0m         \u001b[0mnew\u001b[0m \u001b[0;34m=\u001b[0m \u001b[0mlist\u001b[0m\u001b[0;34m(\u001b[0m\u001b[0mresult\u001b[0m\u001b[0;34m.\u001b[0m\u001b[0mget_counts\u001b[0m\u001b[0;34m(\u001b[0m\u001b[0;34m)\u001b[0m\u001b[0;34m.\u001b[0m\u001b[0mkeys\u001b[0m\u001b[0;34m(\u001b[0m\u001b[0;34m)\u001b[0m\u001b[0;34m)\u001b[0m\u001b[0;34m\u001b[0m\u001b[0;34m\u001b[0m\u001b[0m\n",
      "\u001b[0;32m~/opt/anaconda3/lib/python3.7/site-packages/qiskit/result/result.py\u001b[0m in \u001b[0;36mget_counts\u001b[0;34m(self, experiment)\u001b[0m\n\u001b[1;32m    194\u001b[0m                 \u001b[0mdict_list\u001b[0m\u001b[0;34m.\u001b[0m\u001b[0mappend\u001b[0m\u001b[0;34m(\u001b[0m\u001b[0mStatevector\u001b[0m\u001b[0;34m(\u001b[0m\u001b[0mvec\u001b[0m\u001b[0;34m)\u001b[0m\u001b[0;34m.\u001b[0m\u001b[0mprobabilities_dict\u001b[0m\u001b[0;34m(\u001b[0m\u001b[0mdecimals\u001b[0m\u001b[0;34m=\u001b[0m\u001b[0;36m15\u001b[0m\u001b[0;34m)\u001b[0m\u001b[0;34m)\u001b[0m\u001b[0;34m\u001b[0m\u001b[0;34m\u001b[0m\u001b[0m\n\u001b[1;32m    195\u001b[0m             \u001b[0;32melse\u001b[0m\u001b[0;34m:\u001b[0m\u001b[0;34m\u001b[0m\u001b[0;34m\u001b[0m\u001b[0m\n\u001b[0;32m--> 196\u001b[0;31m                 \u001b[0;32mraise\u001b[0m \u001b[0mQiskitError\u001b[0m\u001b[0;34m(\u001b[0m\u001b[0;34m'No counts for experiment \"{0}\"'\u001b[0m\u001b[0;34m.\u001b[0m\u001b[0mformat\u001b[0m\u001b[0;34m(\u001b[0m\u001b[0mkey\u001b[0m\u001b[0;34m)\u001b[0m\u001b[0;34m)\u001b[0m\u001b[0;34m\u001b[0m\u001b[0;34m\u001b[0m\u001b[0m\n\u001b[0m\u001b[1;32m    197\u001b[0m \u001b[0;34m\u001b[0m\u001b[0m\n\u001b[1;32m    198\u001b[0m         \u001b[0;31m# Return first item of dict_list if size is 1\u001b[0m\u001b[0;34m\u001b[0m\u001b[0;34m\u001b[0m\u001b[0;34m\u001b[0m\u001b[0m\n",
      "\u001b[0;31mQiskitError\u001b[0m: 'No counts for experiment \"0\"'"
     ]
    }
   ],
   "source": [
    "from PIL import Image\n",
    "image= Image.open('mlk.jpg') \n",
    "(width, height) = image.size\n",
    "pixels = image.load()\n",
    "\n",
    "for i in range(width):\n",
    "    for j in range(height):\n",
    "        x = [int(k) for k in bin(i)[2:]]\n",
    "        y = [int(l) for l in bin(j)[2:]]\n",
    "        \n",
    "        size = 0\n",
    "        if len(x) > len(y):\n",
    "            size = len(x)\n",
    "        else:\n",
    "            size = len(y) \n",
    "        \n",
    "        #circ = make_circ(x, y, size)\n",
    "        qa = QuantumRegister(size, \"qa\")\n",
    "        qb = QuantumRegister(size, \"qb\")\n",
    "        qc = QuantumRegister(size + 1, \"qc\")\n",
    "        cr = QuantumRegister(size, \"cr\")\n",
    "\n",
    "        circ = QuantumCircuit(qa, qb, qc, cr)\n",
    "        circ.draw()\n",
    "        for i in range(len(y)):\n",
    "            if y[i] == 1:\n",
    "                circ.x(qa[i])\n",
    "            \n",
    "        for i in range(len(x)):\n",
    "            if x[i] == 1:\n",
    "                circ.x(qb[i])\n",
    "        make_adder2(circ, qa, qb, qc, size)\n",
    "        \n",
    "        for i in range(size - 2):\n",
    "            circ.measure(qb[i], cr[i])\n",
    "        \n",
    "        \n",
    "        backend = Aer.get_backend('statevector_simulator')\n",
    "\n",
    "        shots = 1024\n",
    "        job =  execute(circ, backend, shots=shots)\n",
    "        result = job.result()\n",
    "        print(result)\n",
    "        counts = result.get_counts()\n",
    "        \n",
    "        new = list(result.get_counts().keys())\n",
    "        new_x = get_results(new)\n",
    "        print(new_x)\n",
    "        \n",
    "        #circ = make_circ(x, y, size)\n",
    "        qb = QuantumRegister(size, \"qb\")\n",
    "        qc = QuantumRegister(size + 1, \"qc\")\n",
    "        cr = QuantumRegister(size, \"cr\")\n",
    "\n",
    "        circ = QuantumCircuit(qa, qb, qc, cr)\n",
    "        \n",
    "        for i in range(len(y)):\n",
    "            if y[i] == 1:\n",
    "                circ.x(qa[i])\n",
    "            \n",
    "        for i in range(len(x)):\n",
    "            if x[i] == 1:\n",
    "                circ.x(qb[i])\n",
    "        \n",
    "        make_adder2(circ, qa, qb, qc, size)\n",
    "        make_adder2(circ, qa, qb, qc, size)\n",
    "        \n",
    "        for i in range(size - 2):\n",
    "            circ.measure(qb[i], cr[i])\n",
    "        \n",
    "        backend = provider.get_backend('ibmq_qasm_simulator')\n",
    "\n",
    "        shots = 1024\n",
    "        job =  execute(circ, backend, shots=shots)\n",
    "        result = job.result()\n",
    "        counts = result.get_counts()\n",
    "        \n",
    "        new = list(result.get_counts().keys())\n",
    "        new_y = get_results(new)\n",
    "        print(new_y)"
   ]
  },
  {
   "cell_type": "code",
   "execution_count": null,
   "metadata": {},
   "outputs": [],
   "source": [
    "         for i in range(size - 2):\n",
    "            circ.measure(qb[i], cr[i])\n",
    "        \n",
    "        new_x = get_results(circ)\n",
    "        \n",
    "        circ = make_circ(x, y, size)\n",
    "        \n",
    "        make_adder2(circ, qa, qb, qc, size)\n",
    "        make_adder2(circ, qa, qb, qc, size)\n",
    "        \n",
    "        for i in range(size - 2):\n",
    "            circ.measure(qb[i], cr[i])\n",
    "        \n",
    "        new_y = get_results(circ)"
   ]
  },
  {
   "cell_type": "code",
   "execution_count": 78,
   "metadata": {},
   "outputs": [
    {
     "data": {
      "text/plain": [
       "[1, 0, 0]"
      ]
     },
     "execution_count": 78,
     "metadata": {},
     "output_type": "execute_result"
    }
   ],
   "source": [
    "type(bin(4))\n",
    "ls = [int(i) for i in bin(4)[2:]]\n",
    "#ls = list(map(int,str(bin(4))))\n",
    "ls"
   ]
  },
  {
   "cell_type": "code",
   "execution_count": 48,
   "metadata": {},
   "outputs": [],
   "source": [
    "def getStatevectorFromImage(path):\n",
    "    from PIL import Image\n",
    "    image= Image.open(path)\n",
    "    (width, height) = image.size\n",
    "    pixels = image.load()\n",
    "\n",
    "    ssum = 0\n",
    "    for i in range(width):\n",
    "        for j in range(height):\n",
    "            ssum += pixels[i,j]**2\n",
    "\n",
    "    m = math.floor(math.log(height, 2))\n",
    "    n = math.floor(math.log(width, 2))\n",
    "    stateVector = np.zeros(2**(m+n))\n",
    "    for i in range(width):\n",
    "        for j in range(height):\n",
    "            stateVector[i*height + j] = pixels[i,j]/math.sqrt(ssum)\n",
    "            \n",
    "    return stateVector, m, n"
   ]
  },
  {
   "cell_type": "code",
   "execution_count": 49,
   "metadata": {},
   "outputs": [],
   "source": [
    "def exportQuantumImage(counts, shots, height, width):\n",
    "    from PIL import Image\n",
    "\n",
    "    r = math.floor(math.log(width, 2))\n",
    "    img= Image.new(\"L\", (width, height))\n",
    "    pixels = img.load()\n",
    "\n",
    "    maxAmplitude = 256\n",
    "    medAmplitude = maxAmplitude/2\n",
    "    med = shots/(height * width)\n",
    "    for key in counts:\n",
    "        i = int(key[0:r], 2)\n",
    "        j = int(key[r:], 2)\n",
    "        val = round((((counts[key] - med)/med)*medAmplitude) + medAmplitude)\n",
    "        pixels[i,j] = (val)\n",
    "        \n",
    "    return img"
   ]
  },
  {
   "cell_type": "code",
   "execution_count": 150,
   "metadata": {},
   "outputs": [],
   "source": [
    "stateVector, m, n = getStatevectorFromImage('mlk.jpg')\n",
    "state = [complex(x) for x in stateVector]\n",
    "indexes = range(2*n)\n",
    "\n",
    "columnReg = QuantumRegister(2**n)\n",
    "rowReg = QuantumRegister(2**n)\n",
    "cReg = QuantumRegister(2**n)\n",
    "classicReg = ClassicalRegister(2**n)\n",
    "\n",
    "circ = QuantumCircuit(rowReg, columnReg, cReg, classicReg)\n",
    "circ.initialize(state, indexes)\n",
    "\n",
    "make_adder2(circ, rowReg, columnReg, cReg, n)\n",
    "\n",
    "backend = provider.get_backend('ibmq_qasm_simulator')\n",
    "\n",
    "shots = 2024\n",
    "job =  execute(circ, backend, shots=shots)\n",
    "result = job.result()\n",
    "counts = result.get_counts(circ)"
   ]
  },
  {
   "cell_type": "code",
   "execution_count": 66,
   "metadata": {},
   "outputs": [
    {
     "data": {
      "image/png": "[encoded data removed]",
      "text/plain": [
       "<PIL.Image.Image image mode=L size=8x8 at 0x1A2318D710>"
      ]
     },
     "execution_count": 66,
     "metadata": {},
     "output_type": "execute_result"
    }
   ],
   "source": [
    "exportQuantumImage(counts, 2040, 2**m, 2**n)"
   ]
  },
  {
   "cell_type": "code",
   "execution_count": 149,
   "metadata": {},
   "outputs": [
    {
     "data": {
      "text/plain": [
       "'The number of qubits in the Qobj (96) is higher than the number of qubits supported by the device (32). Error code: 1109.'"
      ]
     },
     "execution_count": 149,
     "metadata": {},
     "output_type": "execute_result"
    }
   ],
   "source": [
    "job.error_message()"
   ]
  },
  {
   "cell_type": "code",
   "execution_count": null,
   "metadata": {},
   "outputs": [],
   "source": []
  }
 ],
 "metadata": {
  "kernelspec": {
   "display_name": "Python 3",
   "language": "python",
   "name": "python3"
  },
  "language_info": {
   "codemirror_mode": {
    "name": "ipython",
    "version": 3
   },
   "file_extension": ".py",
   "mimetype": "text/x-python",
   "name": "python",
   "nbconvert_exporter": "python",
   "pygments_lexer": "ipython3",
   "version": "3.7.6"
  }
 },
 "nbformat": 4,
 "nbformat_minor": 4
}
