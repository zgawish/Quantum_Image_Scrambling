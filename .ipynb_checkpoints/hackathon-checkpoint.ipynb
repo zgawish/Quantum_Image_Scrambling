{
 "cells": [
  {
   "cell_type": "code",
   "execution_count": 2,
   "metadata": {},
   "outputs": [],
   "source": [
    "from PIL import Image\n",
    "import math\n",
    "import numpy as np\n",
    "from qiskit import *"
   ]
  },
  {
   "cell_type": "code",
   "execution_count": 7,
   "metadata": {},
   "outputs": [],
   "source": [
    "def getStatevectorFromImage(path):\n",
    "    image = Image.open(path)\n",
    "    (width, height) = image.size #image of height 2^m x 2^n = 2^(m=N) qubits\n",
    "    print(\"image size: \",image.size)\n",
    "    pixels = image.load()\n",
    "    \n",
    "    ssum = 0\n",
    "    v=0 \n",
    "    \n",
    "    check = pixels[0,0] \n",
    "    print(check)\n",
    "    for i in range(width):\n",
    "        for j in range(height):\n",
    "            ssum += pixels[i,j]**2\n",
    "            if pixels[i,j] != check:\n",
    "                print(\"different: \", pixels[i,j])\n",
    "                break\n",
    "            check = pixels[i,j]\n",
    "            #ssum +=val \n",
    "            \n",
    "    print(\"ssum: \",math.sqrt(ssum))        \n",
    "    m = math.floor(math.log(height, 2))\n",
    "    n = math.floor(math.log(width,2))\n",
    "    print(m,n)\n",
    "    k =0 \n",
    "    stateVector = np.zeros(2**(m+n))\n",
    "    #for i in range(width):\n",
    "    for i in range(width):\n",
    "        for j in range(height):\n",
    "            #print(sum(pixels[i,j])/math.sqrt(ssum))\n",
    "            #stateVector[i*height + j] = sum(pixels[i,j])/math.sqrt(ssum)\n",
    "            \n",
    "            while k<5:\n",
    "                #print(\"normalized: \", pixels[i,j][0]/math.sqrt(ssum))\n",
    "                k+=1\n",
    "            stateVector[i*height + j] = pixels[i,j]/math.sqrt(ssum)\n",
    "            \n",
    "    return stateVector, m ,n\n",
    "    "
   ]
  },
  {
   "cell_type": "code",
   "execution_count": 8,
   "metadata": {},
   "outputs": [
    {
     "name": "stdout",
     "output_type": "stream",
     "text": [
      "image size:  (64, 64)\n",
      "41\n",
      "different:  42\n",
      "different:  39\n",
      "different:  37\n",
      "different:  37\n",
      "different:  38\n",
      "different:  40\n",
      "different:  40\n",
      "different:  40\n",
      "different:  37\n",
      "different:  39\n",
      "different:  44\n",
      "different:  42\n",
      "different:  44\n",
      "different:  40\n",
      "different:  43\n",
      "different:  42\n",
      "different:  36\n",
      "different:  42\n",
      "different:  45\n",
      "different:  34\n",
      "different:  38\n",
      "different:  39\n",
      "different:  43\n",
      "different:  46\n",
      "different:  42\n",
      "different:  43\n",
      "different:  43\n",
      "different:  42\n",
      "different:  35\n",
      "different:  43\n",
      "different:  46\n",
      "different:  50\n",
      "different:  48\n",
      "different:  47\n",
      "different:  49\n",
      "different:  53\n",
      "different:  52\n",
      "different:  49\n",
      "different:  49\n",
      "different:  53\n",
      "different:  51\n",
      "different:  48\n",
      "different:  47\n",
      "different:  48\n",
      "different:  49\n",
      "different:  47\n",
      "different:  45\n",
      "different:  45\n",
      "different:  51\n",
      "different:  48\n",
      "different:  46\n",
      "different:  47\n",
      "different:  50\n",
      "different:  52\n",
      "different:  52\n",
      "different:  51\n",
      "different:  50\n",
      "different:  48\n",
      "different:  47\n",
      "different:  47\n",
      "different:  49\n",
      "different:  50\n",
      "different:  48\n",
      "different:  47\n",
      "ssum:  390.4318122284607\n",
      "6 6\n",
      "sVector:  305.45399082899434\n"
     ]
    }
   ],
   "source": [
    "sVector = getStatevectorFromImage(\"mlk.jpg\")[0]\n",
    "print(\"sVector: \",sum(sVector**2))"
   ]
  },
  {
   "cell_type": "code",
   "execution_count": 9,
   "metadata": {},
   "outputs": [],
   "source": [
    "def Translate(increment, quantumRegister, circuit):\n",
    "    from qiskit.aqua.components.qfts import Standard as qft\n",
    "    from qiskit.aqua.components.iqfts import Standard as iqft\n",
    "    \n",
    "    n = len(quantumRegister)\n",
    "    \n",
    "    qft(n).construct_circuit(qubits=quantumRegister,circuit=circuit)\n",
    "    \n",
    "    for j in range(n):\n",
    "        circuit.u1((np.pi*increment)/(2**(n-1-j)), quantumRegister[j])\n",
    "        \n",
    "    iqft(n).construct_circuit(qubits=quantumRegister,circuit=circuit)"
   ]
  },
  {
   "cell_type": "code",
   "execution_count": null,
   "metadata": {},
   "outputs": [
    {
     "name": "stdout",
     "output_type": "stream",
     "text": [
      "image size:  (64, 64)\n",
      "(255, 255, 255, 255)\n",
      "ssum:  16320.0\n",
      "6 6\n"
     ]
    }
   ],
   "source": [
    "from qiskit.aqua.components.qfts import Standard as qft\n",
    "from qiskit.tools.visualization import plot_histogram\n",
    "stateVector, m, n = getStatevectorFromImage(\"white_squarept2.jpg\")\n",
    "\n",
    "state = [complex(x) for x in stateVector]\n",
    "indexes = range(m+n)\n",
    "\n",
    "#print(\"state: \", state)\n",
    "columnReg = QuantumRegister(n)\n",
    "rowReg = QuantumRegister(m)\n",
    "creg = ClassicalRegister(n+m)\n",
    "\n",
    "circ = QuantumCircuit(rowReg, columnReg, creg)\n",
    "circ.initialize(state, indexes)\n",
    "\n",
    "#qft(m).construct_circuit(qubits=rowReg,circuit=circ)\n",
    "#qft(n).construct_circuit(qubits=columnReg,circuit=circ)\n",
    "\n",
    "#Translate(2**(n-1), rowReg, circ)\n",
    "#Translate(2**(m-1), columnReg, circ)\n",
    "circ.measure(indexes, indexes)\n",
    "\n",
    "IBMQ.load_account()\n",
    "provider = IBMQ.get_provider(group='open')\n",
    "backend =  provider.get_backend('ibmq_qasm_simulator')\n",
    "\n",
    "shots = 2024\n",
    "#shots =8192 \n",
    "result = execute(circ, backend, shots=shots).result()\n",
    "counts = result.get_counts(circ)\n",
    "#plot_histogram(counts)"
   ]
  },
  {
   "cell_type": "code",
   "execution_count": 5,
   "metadata": {},
   "outputs": [
    {
     "name": "stdout",
     "output_type": "stream",
     "text": [
      "ERROR! Session/line number was not unique in database. History logging moved to new session 184\n"
     ]
    }
   ],
   "source": [
    "# for i in range(len(sVector)):\n",
    "#     sVector[i] = math.log(sVector[i],2)\n",
    "\n",
    "# np.absolute(sVector)"
   ]
  },
  {
   "cell_type": "code",
   "execution_count": 6,
   "metadata": {},
   "outputs": [],
   "source": [
    "def exportQuantumImage(counts, shots, height, width):\n",
    "    from PIL import Image\n",
    "\n",
    "    r = math.floor(math.log(width, 2))\n",
    "    img= Image.new(\"L\", (width, height))\n",
    "    pixels = img.load()\n",
    "\n",
    "    maxAmplitude = 256\n",
    "    medAmplitude = maxAmplitude/2\n",
    "    med = shots/(height * width)\n",
    "    for key in counts:\n",
    "        i = int(key[0:r], 2)\n",
    "        j = int(key[r:], 2)\n",
    "        val = round((((counts[key] - med)/med)*medAmplitude) + medAmplitude)\n",
    "        pixels[i,j] = (val)\n",
    "        \n",
    "    return img"
   ]
  },
  {
   "cell_type": "code",
   "execution_count": 7,
   "metadata": {},
   "outputs": [
    {
     "ename": "NameError",
     "evalue": "name 'counts' is not defined",
     "output_type": "error",
     "traceback": [
      "\u001b[0;31m---------------------------------------------------------------------------\u001b[0m",
      "\u001b[0;31mNameError\u001b[0m                                 Traceback (most recent call last)",
      "\u001b[0;32m<ipython-input-7-7ebfde322b9f>\u001b[0m in \u001b[0;36m<module>\u001b[0;34m\u001b[0m\n\u001b[0;32m----> 1\u001b[0;31m \u001b[0mexportQuantumImage\u001b[0m\u001b[0;34m(\u001b[0m\u001b[0mcounts\u001b[0m\u001b[0;34m,\u001b[0m\u001b[0mshots\u001b[0m\u001b[0;34m,\u001b[0m\u001b[0;36m2\u001b[0m\u001b[0;34m**\u001b[0m\u001b[0mm\u001b[0m\u001b[0;34m,\u001b[0m\u001b[0;36m2\u001b[0m\u001b[0;34m**\u001b[0m\u001b[0mn\u001b[0m\u001b[0;34m)\u001b[0m\u001b[0;34m\u001b[0m\u001b[0;34m\u001b[0m\u001b[0m\n\u001b[0m",
      "\u001b[0;31mNameError\u001b[0m: name 'counts' is not defined"
     ]
    }
   ],
   "source": [
    "exportQuantumImage(counts,shots,2**m,2**n)"
   ]
  },
  {
   "cell_type": "code",
   "execution_count": null,
   "metadata": {},
   "outputs": [],
   "source": []
  }
 ],
 "metadata": {
  "@webio": {
   "lastCommId": null,
   "lastKernelId": null
  },
  "kernelspec": {
   "display_name": "Python 3",
   "language": "python",
   "name": "python3"
  },
  "language_info": {
   "codemirror_mode": {
    "name": "ipython",
    "version": 3
   },
   "file_extension": ".py",
   "mimetype": "text/x-python",
   "name": "python",
   "nbconvert_exporter": "python",
   "pygments_lexer": "ipython3",
   "version": "3.8.3"
  }
 },
 "nbformat": 4,
 "nbformat_minor": 4
}
